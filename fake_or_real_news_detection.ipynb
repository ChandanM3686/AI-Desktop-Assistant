{
  "nbformat": 4,
  "nbformat_minor": 0,
  "metadata": {
    "colab": {
      "provenance": [],
      "authorship_tag": "ABX9TyOUOmPO+ipMRzzMahV5jz4y",
      "include_colab_link": true
    },
    "kernelspec": {
      "name": "python3",
      "display_name": "Python 3"
    },
    "language_info": {
      "name": "python"
    }
  },
  "cells": [
    {
      "cell_type": "markdown",
      "metadata": {
        "id": "view-in-github",
        "colab_type": "text"
      },
      "source": [
        "<a href=\"https://colab.research.google.com/github/ChandanM3686/AI-Desktop-Assistant/blob/main/fake_or_real_news_detection.ipynb\" target=\"_parent\"><img src=\"https://colab.research.google.com/assets/colab-badge.svg\" alt=\"Open In Colab\"/></a>"
      ]
    },
    {
      "cell_type": "code",
      "execution_count": 6,
      "metadata": {
        "colab": {
          "base_uri": "https://localhost:8080/"
        },
        "id": "4s0IJw7tihdm",
        "outputId": "3b5d580a-0a7b-41a8-c0ec-714654f7a32d"
      },
      "outputs": [
        {
          "output_type": "stream",
          "name": "stdout",
          "text": [
            "Accuracy: 0.9976284584980237\n",
            "              precision    recall  f1-score   support\n",
            "\n",
            "           0       1.00      1.00      1.00       581\n",
            "           1       1.00      1.00      1.00       684\n",
            "\n",
            "    accuracy                           1.00      1265\n",
            "   macro avg       1.00      1.00      1.00      1265\n",
            "weighted avg       1.00      1.00      1.00      1265\n",
            "\n",
            "Enter the URL of the news article: https://apnews.com/article/fact-check-misinformation-wisconsin-election-florida-ukraine-34930aecebedc7caeea20ece5af291da\n",
            "The news article is predicted to be: Fake\n"
          ]
        }
      ],
      "source": [
        "import numpy as np\n",
        "import pandas as pd\n",
        "from sklearn.svm import SVC\n",
        "from sklearn.model_selection import train_test_split\n",
        "from sklearn.feature_extraction.text import TfidfVectorizer\n",
        "from sklearn.metrics import accuracy_score, classification_report\n",
        "from newspaper import Article\n",
        "\n",
        "\n",
        "fake_news = pd.read_csv('/content/Fake.csv', on_bad_lines='skip', engine='python')\n",
        "true_news = pd.read_csv('/content/True.csv', on_bad_lines='skip', engine='python')\n",
        "true_news['label'] = 1\n",
        "fake_news['label'] = 0\n",
        "data = pd.concat([true_news, fake_news], ignore_index=True)\n",
        "\n",
        "X = data['text']\n",
        "y = data['label']\n",
        "\n",
        "vectorizer = TfidfVectorizer(stop_words='english')\n",
        "X_tfidf = vectorizer.fit_transform(X)\n",
        "\n",
        "x_train, x_test, y_train, y_test = train_test_split(X_tfidf, y, test_size=0.1, random_state=7)\n",
        "\n",
        "model = SVC(kernel='linear', random_state=7)\n",
        "model.fit(x_train, y_train)\n",
        "\n",
        "y_pred = model.predict(x_test)\n",
        "print(f\"Accuracy: {accuracy_score(y_test, y_pred)}\")\n",
        "print(classification_report(y_test, y_pred))\n",
        "\n",
        "\n",
        "def predict_news_from_url(url):\n",
        "    article = Article(url)\n",
        "    article.download()\n",
        "    article.parse()\n",
        "    article_text = article.text\n",
        "\n",
        "\n",
        "    article_tfidf = vectorizer.transform([article_text])\n",
        "    prediction = model.predict(article_tfidf)\n",
        "    return \"Real\" if prediction[0] == 1 else \"Fake\"\n",
        "\n",
        "\n",
        "url = input(\"Enter the URL of the news article: \")\n",
        "prediction = predict_news_from_url(url)\n",
        "print(f\"The news article is predicted to be: {prediction}\")\n"
      ]
    },
    {
      "cell_type": "code",
      "source": [],
      "metadata": {
        "id": "vUGRx3LSiwgO"
      },
      "execution_count": null,
      "outputs": []
    }
  ]
}